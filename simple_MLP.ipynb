{
 "cells": [
  {
   "cell_type": "code",
   "execution_count": 1,
   "metadata": {
    "colab": {
     "base_uri": "https://localhost:8080/"
    },
    "id": "DpoRP9MHAdUa",
    "outputId": "feaebd5e-246d-4d50-8704-2291fd9668ec"
   },
   "outputs": [
    {
     "name": "stdout",
     "output_type": "stream",
     "text": [
      "Mounted at /content/gdrive\n"
     ]
    }
   ],
   "source": [
    "from google.colab import drive\n",
    "drive.mount('/content/gdrive')"
   ]
  },
  {
   "cell_type": "code",
   "execution_count": 2,
   "metadata": {
    "id": "KSvkcX7KA9Uv"
   },
   "outputs": [],
   "source": [
    "import pandas as pd\n",
    "import numpy as np\n",
    "import tensorflow as tf\n",
    "from tensorflow.keras.preprocessing import sequence\n",
    "from tensorflow.keras.models import Sequential\n",
    "from tensorflow.keras.layers import Dense, Activation,Flatten,Reshape\n",
    "from tensorflow.keras.layers import Embedding\n",
    "from tensorflow.keras.layers import LSTM\n",
    "from tensorflow.keras.preprocessing.text import Tokenizer\n",
    "import csv\n",
    "from tensorflow.keras.models import Model\n",
    "#import keras\n",
    "from tensorflow.keras import backend as k\n",
    "from tensorflow.keras.layers import Input,Concatenate,Dropout,Dense,BatchNormalization,Conv1D\n",
    "from tensorflow.keras.layers import Input\n",
    "from sklearn.preprocessing import LabelEncoder,OneHotEncoder\n",
    "#from tensorflow.keras.merge import concatenate\n",
    "#import tensorflow as tf\n",
    "from tensorflow.keras.preprocessing.sequence import pad_sequences\n",
    "import scipy\n",
    "from tensorflow.keras.initializers import he_normal,glorot_normal\n",
    "from tensorflow.keras.regularizers import l1,l2\n",
    "from tensorflow.python.keras.callbacks import TensorBoard\n",
    "from tensorflow.keras.callbacks import Callback, EarlyStopping, ModelCheckpoint,LearningRateScheduler,ReduceLROnPlateau\n",
    "from time import time\n",
    "from tensorflow.keras.utils import plot_model"
   ]
  },
  {
   "cell_type": "code",
   "execution_count": 3,
   "metadata": {
    "id": "bsFU98mlA9Po"
   },
   "outputs": [],
   "source": [
    "train=pd.read_csv('/content/gdrive/MyDrive/Case study(Quora)/quora-question-pairs/train_preprocess.csv')\n",
    "test=pd.read_csv('/content/gdrive/MyDrive/Case study(Quora)/quora-question-pairs/test_preprocess.csv')"
   ]
  },
  {
   "cell_type": "code",
   "execution_count": 4,
   "metadata": {
    "colab": {
     "base_uri": "https://localhost:8080/",
     "height": 607
    },
    "id": "FEf8icnAA9J2",
    "outputId": "b670f89a-b28f-403b-b376-f34650f734ca"
   },
   "outputs": [
    {
     "data": {
      "text/html": [
       "<div>\n",
       "<style scoped>\n",
       "    .dataframe tbody tr th:only-of-type {\n",
       "        vertical-align: middle;\n",
       "    }\n",
       "\n",
       "    .dataframe tbody tr th {\n",
       "        vertical-align: top;\n",
       "    }\n",
       "\n",
       "    .dataframe thead th {\n",
       "        text-align: right;\n",
       "    }\n",
       "</style>\n",
       "<table border=\"1\" class=\"dataframe\">\n",
       "  <thead>\n",
       "    <tr style=\"text-align: right;\">\n",
       "      <th></th>\n",
       "      <th>id</th>\n",
       "      <th>qid1</th>\n",
       "      <th>qid2</th>\n",
       "      <th>question1</th>\n",
       "      <th>question2</th>\n",
       "      <th>is_duplicate</th>\n",
       "      <th>compound</th>\n",
       "      <th>negative</th>\n",
       "      <th>positive</th>\n",
       "      <th>neutral</th>\n",
       "      <th>q1len</th>\n",
       "      <th>q2len</th>\n",
       "      <th>q1_n_words</th>\n",
       "      <th>q2_n_words</th>\n",
       "      <th>word_Common</th>\n",
       "      <th>word_Total</th>\n",
       "      <th>word_share</th>\n",
       "      <th>cwc_min</th>\n",
       "      <th>cwc_max</th>\n",
       "      <th>csc_min</th>\n",
       "      <th>csc_max</th>\n",
       "      <th>ctc_min</th>\n",
       "      <th>ctc_max</th>\n",
       "      <th>last_word_eq</th>\n",
       "      <th>first_word_eq</th>\n",
       "      <th>abs_len_diff</th>\n",
       "      <th>mean_len</th>\n",
       "      <th>token_set_ratio</th>\n",
       "      <th>token_sort_ratio</th>\n",
       "      <th>fuzz_ratio</th>\n",
       "      <th>fuzz_partial_ratio</th>\n",
       "    </tr>\n",
       "  </thead>\n",
       "  <tbody>\n",
       "    <tr>\n",
       "      <th>0</th>\n",
       "      <td>0</td>\n",
       "      <td>1</td>\n",
       "      <td>2</td>\n",
       "      <td>what is the step by step guide to invest in sh...</td>\n",
       "      <td>what is the step by step guide to invest in sh...</td>\n",
       "      <td>0</td>\n",
       "      <td>0.5267</td>\n",
       "      <td>0.000</td>\n",
       "      <td>0.161</td>\n",
       "      <td>0.839</td>\n",
       "      <td>65</td>\n",
       "      <td>56</td>\n",
       "      <td>14</td>\n",
       "      <td>12</td>\n",
       "      <td>11.0</td>\n",
       "      <td>23.0</td>\n",
       "      <td>0.478261</td>\n",
       "      <td>0.999980</td>\n",
       "      <td>0.833319</td>\n",
       "      <td>0.999983</td>\n",
       "      <td>0.999983</td>\n",
       "      <td>0.916659</td>\n",
       "      <td>0.785709</td>\n",
       "      <td>0.0</td>\n",
       "      <td>1.0</td>\n",
       "      <td>2.0</td>\n",
       "      <td>13.0</td>\n",
       "      <td>100</td>\n",
       "      <td>93</td>\n",
       "      <td>93</td>\n",
       "      <td>100</td>\n",
       "    </tr>\n",
       "    <tr>\n",
       "      <th>1</th>\n",
       "      <td>1</td>\n",
       "      <td>3</td>\n",
       "      <td>4</td>\n",
       "      <td>what is the story of kohinoor koh i noor diamond</td>\n",
       "      <td>what would happen if the indian government sto...</td>\n",
       "      <td>0</td>\n",
       "      <td>0.3400</td>\n",
       "      <td>0.000</td>\n",
       "      <td>0.103</td>\n",
       "      <td>0.897</td>\n",
       "      <td>48</td>\n",
       "      <td>85</td>\n",
       "      <td>10</td>\n",
       "      <td>15</td>\n",
       "      <td>7.0</td>\n",
       "      <td>24.0</td>\n",
       "      <td>0.291667</td>\n",
       "      <td>0.799984</td>\n",
       "      <td>0.399996</td>\n",
       "      <td>0.749981</td>\n",
       "      <td>0.599988</td>\n",
       "      <td>0.699993</td>\n",
       "      <td>0.466664</td>\n",
       "      <td>0.0</td>\n",
       "      <td>1.0</td>\n",
       "      <td>5.0</td>\n",
       "      <td>12.5</td>\n",
       "      <td>86</td>\n",
       "      <td>63</td>\n",
       "      <td>65</td>\n",
       "      <td>73</td>\n",
       "    </tr>\n",
       "    <tr>\n",
       "      <th>2</th>\n",
       "      <td>2</td>\n",
       "      <td>5</td>\n",
       "      <td>6</td>\n",
       "      <td>how can i increase the speed of my internet co...</td>\n",
       "      <td>how can internet speed be increased by hacking...</td>\n",
       "      <td>0</td>\n",
       "      <td>0.5267</td>\n",
       "      <td>0.000</td>\n",
       "      <td>0.188</td>\n",
       "      <td>0.812</td>\n",
       "      <td>72</td>\n",
       "      <td>58</td>\n",
       "      <td>14</td>\n",
       "      <td>10</td>\n",
       "      <td>4.0</td>\n",
       "      <td>24.0</td>\n",
       "      <td>0.166667</td>\n",
       "      <td>0.399992</td>\n",
       "      <td>0.333328</td>\n",
       "      <td>0.399992</td>\n",
       "      <td>0.249997</td>\n",
       "      <td>0.399996</td>\n",
       "      <td>0.285712</td>\n",
       "      <td>0.0</td>\n",
       "      <td>1.0</td>\n",
       "      <td>4.0</td>\n",
       "      <td>12.0</td>\n",
       "      <td>63</td>\n",
       "      <td>63</td>\n",
       "      <td>43</td>\n",
       "      <td>46</td>\n",
       "    </tr>\n",
       "    <tr>\n",
       "      <th>3</th>\n",
       "      <td>3</td>\n",
       "      <td>7</td>\n",
       "      <td>8</td>\n",
       "      <td>why am i mentally very lonely how can i solve it</td>\n",
       "      <td>find the remainder when math 23 24 math is div...</td>\n",
       "      <td>0</td>\n",
       "      <td>-0.2484</td>\n",
       "      <td>0.118</td>\n",
       "      <td>0.076</td>\n",
       "      <td>0.805</td>\n",
       "      <td>48</td>\n",
       "      <td>59</td>\n",
       "      <td>11</td>\n",
       "      <td>13</td>\n",
       "      <td>0.0</td>\n",
       "      <td>20.0</td>\n",
       "      <td>0.000000</td>\n",
       "      <td>0.000000</td>\n",
       "      <td>0.000000</td>\n",
       "      <td>0.000000</td>\n",
       "      <td>0.000000</td>\n",
       "      <td>0.000000</td>\n",
       "      <td>0.000000</td>\n",
       "      <td>0.0</td>\n",
       "      <td>0.0</td>\n",
       "      <td>2.0</td>\n",
       "      <td>12.0</td>\n",
       "      <td>28</td>\n",
       "      <td>24</td>\n",
       "      <td>9</td>\n",
       "      <td>11</td>\n",
       "    </tr>\n",
       "    <tr>\n",
       "      <th>4</th>\n",
       "      <td>4</td>\n",
       "      <td>9</td>\n",
       "      <td>10</td>\n",
       "      <td>which one dissolve in water quikly sugar salt ...</td>\n",
       "      <td>which fish would survive in salt water</td>\n",
       "      <td>0</td>\n",
       "      <td>0.0000</td>\n",
       "      <td>0.000</td>\n",
       "      <td>0.000</td>\n",
       "      <td>1.000</td>\n",
       "      <td>73</td>\n",
       "      <td>38</td>\n",
       "      <td>13</td>\n",
       "      <td>7</td>\n",
       "      <td>4.0</td>\n",
       "      <td>20.0</td>\n",
       "      <td>0.200000</td>\n",
       "      <td>0.399992</td>\n",
       "      <td>0.199998</td>\n",
       "      <td>0.999950</td>\n",
       "      <td>0.666644</td>\n",
       "      <td>0.571420</td>\n",
       "      <td>0.307690</td>\n",
       "      <td>0.0</td>\n",
       "      <td>1.0</td>\n",
       "      <td>6.0</td>\n",
       "      <td>10.0</td>\n",
       "      <td>67</td>\n",
       "      <td>47</td>\n",
       "      <td>36</td>\n",
       "      <td>55</td>\n",
       "    </tr>\n",
       "  </tbody>\n",
       "</table>\n",
       "</div>"
      ],
      "text/plain": [
       "   id  qid1  qid2  ... token_sort_ratio fuzz_ratio  fuzz_partial_ratio\n",
       "0   0     1     2  ...               93         93                 100\n",
       "1   1     3     4  ...               63         65                  73\n",
       "2   2     5     6  ...               63         43                  46\n",
       "3   3     7     8  ...               24          9                  11\n",
       "4   4     9    10  ...               47         36                  55\n",
       "\n",
       "[5 rows x 31 columns]"
      ]
     },
     "execution_count": 4,
     "metadata": {},
     "output_type": "execute_result"
    }
   ],
   "source": [
    "train.head()"
   ]
  },
  {
   "cell_type": "code",
   "execution_count": 5,
   "metadata": {
    "id": "SRjrOk_bA9Do"
   },
   "outputs": [],
   "source": [
    "Y=train['is_duplicate']\n",
    "X=train.drop(['id','qid1','qid2','is_duplicate'],axis=1)"
   ]
  },
  {
   "cell_type": "code",
   "execution_count": 6,
   "metadata": {
    "colab": {
     "base_uri": "https://localhost:8080/"
    },
    "id": "LQLiBt8XNT10",
    "outputId": "e4ef17ba-46a5-49fe-9ea6-72801c5148c2"
   },
   "outputs": [
    {
     "data": {
      "text/plain": [
       "(404290, 2)"
      ]
     },
     "execution_count": 6,
     "metadata": {},
     "output_type": "execute_result"
    }
   ],
   "source": [
    "labels=tf.keras.utils.to_categorical(train['is_duplicate'].values,num_classes=2)\n",
    "labels.shape"
   ]
  },
  {
   "cell_type": "code",
   "execution_count": 7,
   "metadata": {
    "id": "bzLDQiX4A8-O"
   },
   "outputs": [],
   "source": [
    "from sklearn.model_selection import train_test_split\n",
    "X_train,X_test,Y_train,Y_test=train_test_split(X,labels,test_size=0.25,random_state=42)"
   ]
  },
  {
   "cell_type": "code",
   "execution_count": 8,
   "metadata": {
    "colab": {
     "base_uri": "https://localhost:8080/"
    },
    "id": "qUiHGiXAA809",
    "outputId": "7de78a0b-665e-4dd3-ce0a-5ac6710e0a04"
   },
   "outputs": [
    {
     "name": "stdout",
     "output_type": "stream",
     "text": [
      "(303217, 27) (303217, 2)\n",
      "(101073, 27) (101073, 2)\n"
     ]
    }
   ],
   "source": [
    "print(X_train.shape,Y_train.shape)\n",
    "print(X_test.shape,Y_test.shape)"
   ]
  },
  {
   "cell_type": "code",
   "execution_count": 9,
   "metadata": {
    "id": "PAgaC754A8vt"
   },
   "outputs": [],
   "source": [
    "from sklearn.feature_extraction.text import TfidfVectorizer\n",
    "from sklearn.feature_extraction.text import CountVectorizer\n",
    "def text_encoding(train,test,test_final,type_val,params):\n",
    "    if type_val == 'BOW':\n",
    "        vectorizer = CountVectorizer(ngram_range = params[0],min_df=1,max_df=25,max_features=params[1])  \n",
    "    else :\n",
    "        vectorizer=TfidfVectorizer(ngram_range = params[0],min_df=1,max_df=25,max_features=params[1])\n",
    "    train_transform = vectorizer.fit_transform(train)\n",
    "    test_final_transform=vectorizer.transform(test_final)\n",
    "    test_transform = vectorizer.transform(test)\n",
    "    return train_transform,test_transform,test_final_transform"
   ]
  },
  {
   "cell_type": "code",
   "execution_count": 10,
   "metadata": {
    "colab": {
     "base_uri": "https://localhost:8080/"
    },
    "id": "6XW1fUf9CFiI",
    "outputId": "2aaddd14-1c67-49d0-dc9e-b48f8d5e6dd6"
   },
   "outputs": [
    {
     "name": "stdout",
     "output_type": "stream",
     "text": [
      "(303217, 50000) (101073, 50000) (2345796, 50000)\n",
      "CPU times: user 1min 32s, sys: 667 ms, total: 1min 33s\n",
      "Wall time: 1min 32s\n"
     ]
    }
   ],
   "source": [
    "%%time\n",
    "train_bow_q1,test_bow_q1,test_final_bow_q1= text_encoding(X_train['question1'],X_test['question1'],test['question1'],'TFIDF',((1,4),50000))\n",
    "print(train_bow_q1.shape,test_bow_q1.shape,test_final_bow_q1.shape)"
   ]
  },
  {
   "cell_type": "code",
   "execution_count": 11,
   "metadata": {
    "colab": {
     "base_uri": "https://localhost:8080/"
    },
    "id": "R6RfGUJUCIkD",
    "outputId": "8e2c8f91-5874-4cb4-dcaa-bef6f7e0d18c"
   },
   "outputs": [
    {
     "name": "stdout",
     "output_type": "stream",
     "text": [
      "(303217, 50000) (101073, 50000) (2345796, 50000)\n",
      "CPU times: user 1min 33s, sys: 661 ms, total: 1min 33s\n",
      "Wall time: 1min 33s\n"
     ]
    }
   ],
   "source": [
    "%%time\n",
    "train_bow_q2,test_bow_q2,test_final_bow_q2= text_encoding(X_train['question2'].values,X_test['question2'].values,test['question2'].values,'TFIDF',((1,4),50000))\n",
    "print(train_bow_q2.shape,test_bow_q2.shape,test_final_bow_q2.shape)"
   ]
  },
  {
   "cell_type": "code",
   "execution_count": 12,
   "metadata": {
    "id": "RNIZckniCMNr"
   },
   "outputs": [],
   "source": [
    "from sklearn.preprocessing import Normalizer\n",
    "def data_Normalizer(train,test,test_final):\n",
    "    norm=Normalizer()\n",
    "    norm.fit(train)\n",
    "    train_norm=norm.transform(train)\n",
    "    test_norm=norm.transform(test)\n",
    "    test_final_norm=norm.transform(test_final)\n",
    "    return train_norm,test_norm,test_final_norm"
   ]
  },
  {
   "cell_type": "code",
   "execution_count": 13,
   "metadata": {
    "id": "FrKmKkRMCNCC"
   },
   "outputs": [],
   "source": [
    "train_q1_len,test_q1_len,test_final_q1_len=data_Normalizer(X_train['q1len'].values.reshape(-1,1),X_test['q1len'].values.reshape(-1,1),test['q1len'].values.reshape(-1,1))"
   ]
  },
  {
   "cell_type": "code",
   "execution_count": 14,
   "metadata": {
    "id": "HIyKZSoFCM5W"
   },
   "outputs": [],
   "source": [
    "train_q2_len,test_q2_len,test_final_q2_len=data_Normalizer(X_train['q2len'].values.reshape(-1,1),X_test['q2len'].values.reshape(-1,1),test['q2len'].values.reshape(-1,1))"
   ]
  },
  {
   "cell_type": "code",
   "execution_count": 15,
   "metadata": {
    "id": "xIrzWzZ-CMyq"
   },
   "outputs": [],
   "source": [
    "train_q1_n,test_q1_n,test_final_q1_n=data_Normalizer(X_train['q1_n_words'].values.reshape(-1,1),X_test['q1_n_words'].values.reshape(-1,1),test['q1_n_words'].values.reshape(-1,1))"
   ]
  },
  {
   "cell_type": "code",
   "execution_count": 16,
   "metadata": {
    "id": "DUNlUejICxr6"
   },
   "outputs": [],
   "source": [
    "train_q2_n,test_q2_n,test_final_q2_n=data_Normalizer(X_train['q2_n_words'].values.reshape(-1,1),X_test['q2_n_words'].values.reshape(-1,1),test['q2_n_words'].values.reshape(-1,1))"
   ]
  },
  {
   "cell_type": "code",
   "execution_count": 17,
   "metadata": {
    "id": "M-8TaxViCxlJ"
   },
   "outputs": [],
   "source": [
    "train_common,test_common,test_final_common=data_Normalizer(X_train['word_Common'].values.reshape(-1,1),X_test['word_Common'].values.reshape(-1,1),test['word_Common'].values.reshape(-1,1))"
   ]
  },
  {
   "cell_type": "code",
   "execution_count": 18,
   "metadata": {
    "id": "GtWH2P4cCxco"
   },
   "outputs": [],
   "source": [
    "train_total,test_total,test_final_total=data_Normalizer(X_train['word_Total'].values.reshape(-1,1),X_test['word_Total'].values.reshape(-1,1),test['word_Total'].values.reshape(-1,1))"
   ]
  },
  {
   "cell_type": "code",
   "execution_count": 19,
   "metadata": {
    "id": "rkRr3bi0CxUz"
   },
   "outputs": [],
   "source": [
    "train_share,test_share,test_final_share=data_Normalizer(X_train['word_share'].values.reshape(-1,1),X_test['word_share'].values.reshape(-1,1),test['word_share'].values.reshape(-1,1))"
   ]
  },
  {
   "cell_type": "code",
   "execution_count": 20,
   "metadata": {
    "id": "Pjhk2FXkCxK7"
   },
   "outputs": [],
   "source": [
    "train_cwc_min,test_cwc_min,test_final_cwc_min=data_Normalizer(X_train['cwc_min'].values.reshape(-1,1),X_test['cwc_min'].values.reshape(-1,1),test['cwc_min'].values.reshape(-1,1))"
   ]
  },
  {
   "cell_type": "code",
   "execution_count": 21,
   "metadata": {
    "id": "lvUjfH9qCxCD"
   },
   "outputs": [],
   "source": [
    "train_cwc_max,test_cwc_max,test_final_cwc_max=data_Normalizer(X_train['cwc_max'].values.reshape(-1,1),X_test['cwc_max'].values.reshape(-1,1),test['cwc_max'].values.reshape(-1,1))"
   ]
  },
  {
   "cell_type": "code",
   "execution_count": 22,
   "metadata": {
    "id": "W1kXz0fxCw3z"
   },
   "outputs": [],
   "source": [
    "train_csc_min,test_csc_min,test_final_csc_min=data_Normalizer(X_train['csc_min'].values.reshape(-1,1),X_test['csc_min'].values.reshape(-1,1),test['csc_min'].values.reshape(-1,1))"
   ]
  },
  {
   "cell_type": "code",
   "execution_count": 23,
   "metadata": {
    "id": "oFl1M9AaCws4"
   },
   "outputs": [],
   "source": [
    "train_csc_max,test_csc_max,test_final_csc_max=data_Normalizer(X_train['csc_max'].values.reshape(-1,1),X_test['csc_max'].values.reshape(-1,1),test['csc_max'].values.reshape(-1,1))"
   ]
  },
  {
   "cell_type": "code",
   "execution_count": 24,
   "metadata": {
    "id": "RI4hdhmsLzQA"
   },
   "outputs": [],
   "source": [
    "train_ctc_min,test_ctc_min,test_final_ctc_min=data_Normalizer(X_train['ctc_min'].values.reshape(-1,1),X_test['ctc_min'].values.reshape(-1,1),test['ctc_min'].values.reshape(-1,1))"
   ]
  },
  {
   "cell_type": "code",
   "execution_count": 25,
   "metadata": {
    "id": "YTfYHUd6Cwmd"
   },
   "outputs": [],
   "source": [
    "train_ctc_max,test_ctc_max,test_final_ctc_max=data_Normalizer(X_train['ctc_max'].values.reshape(-1,1),X_test['ctc_max'].values.reshape(-1,1),test['ctc_max'].values.reshape(-1,1))"
   ]
  },
  {
   "cell_type": "code",
   "execution_count": 26,
   "metadata": {
    "id": "ra1cHHmeLvkF"
   },
   "outputs": [],
   "source": [
    "train_last,test_last,test_final_last=data_Normalizer(X_train['last_word_eq'].values.reshape(-1,1),X_test['last_word_eq'].values.reshape(-1,1),test['last_word_eq'].values.reshape(-1,1))"
   ]
  },
  {
   "cell_type": "code",
   "execution_count": 27,
   "metadata": {
    "id": "N-ewbGtkLvgV"
   },
   "outputs": [],
   "source": [
    "train_first,test_first,test_final_first=data_Normalizer(X_train['first_word_eq'].values.reshape(-1,1),X_test['first_word_eq'].values.reshape(-1,1),test['first_word_eq'].values.reshape(-1,1))"
   ]
  },
  {
   "cell_type": "code",
   "execution_count": 28,
   "metadata": {
    "id": "37dR34YFLvcc"
   },
   "outputs": [],
   "source": [
    "train_abs,test_abs,test_final_abs=data_Normalizer(X_train['abs_len_diff'].values.reshape(-1,1),X_test['abs_len_diff'].values.reshape(-1,1),test['abs_len_diff'].values.reshape(-1,1))"
   ]
  },
  {
   "cell_type": "code",
   "execution_count": 29,
   "metadata": {
    "id": "gn-GxG4kLvWy"
   },
   "outputs": [],
   "source": [
    "train_mean,test_mean,test_final_mean=data_Normalizer(X_train['mean_len'].values.reshape(-1,1),X_test['mean_len'].values.reshape(-1,1),test['mean_len'].values.reshape(-1,1))"
   ]
  },
  {
   "cell_type": "code",
   "execution_count": 30,
   "metadata": {
    "id": "f8j1PMpkLvQ1"
   },
   "outputs": [],
   "source": [
    "train_token_set,test_token_set,test_final_token_set=data_Normalizer(X_train['token_set_ratio'].values.reshape(-1,1),X_test['token_set_ratio'].values.reshape(-1,1),test['token_set_ratio'].values.reshape(-1,1))"
   ]
  },
  {
   "cell_type": "code",
   "execution_count": 31,
   "metadata": {
    "id": "JxaUoVGiMG5r"
   },
   "outputs": [],
   "source": [
    "train_token_sort,test_token_sort,test_final_token_sort=data_Normalizer(X_train['token_sort_ratio'].values.reshape(-1,1),X_test['token_sort_ratio'].values.reshape(-1,1),test['token_sort_ratio'].values.reshape(-1,1))"
   ]
  },
  {
   "cell_type": "code",
   "execution_count": 32,
   "metadata": {
    "id": "IL0Pnu7uMH-R"
   },
   "outputs": [],
   "source": [
    "train_fuzz_ratio,test_fuzz_ratio,test_final_fuzz_ratio=data_Normalizer(X_train['fuzz_ratio'].values.reshape(-1,1),X_test['fuzz_ratio'].values.reshape(-1,1),test['fuzz_ratio'].values.reshape(-1,1))"
   ]
  },
  {
   "cell_type": "code",
   "execution_count": 33,
   "metadata": {
    "id": "wyXC4g7jMM7n"
   },
   "outputs": [],
   "source": [
    "train_fuzz_p_ratio,test_fuzz_p_ratio,test_final_fuzz_p_ratio=data_Normalizer(X_train['fuzz_partial_ratio'].values.reshape(-1,1),X_test['fuzz_partial_ratio'].values.reshape(-1,1),test['fuzz_partial_ratio'].values.reshape(-1,1))"
   ]
  },
  {
   "cell_type": "code",
   "execution_count": 34,
   "metadata": {
    "id": "TJIqOS8TMNw5"
   },
   "outputs": [],
   "source": [
    "from scipy.sparse import hstack\n",
    "train_s=hstack((train_bow_q1,train_bow_q2,train_q1_len,train_q2_len,train_q1_n,train_q2_n,train_common,train_total,train_share,train_cwc_min,train_cwc_max,train_csc_min,train_csc_max,train_ctc_min,train_csc_max,train_ctc_max,train_last,train_first,train_abs,train_mean,train_token_set,train_token_sort,train_fuzz_ratio,train_cwc_min)).tocsr().astype('float32')\n",
    "test_s=hstack((test_bow_q1,test_bow_q2,test_q1_len,test_q2_len,test_q1_n,test_q2_n,test_common,test_total,test_share,test_cwc_min,test_cwc_max,test_csc_min,test_csc_max,test_ctc_min,test_csc_max,test_ctc_max,test_last,test_first,test_abs,test_mean,test_token_set,test_token_sort,test_fuzz_ratio,test_cwc_min)).tocsr().astype('float32')\n",
    "test_final_s=hstack((test_final_bow_q1,test_final_bow_q2,test_final_q1_len,test_final_q2_len,test_final_q1_n,test_final_q2_n,test_final_common,test_final_total,test_final_share,test_final_cwc_min,test_final_cwc_max,test_final_csc_min,test_final_csc_max,test_final_ctc_min,test_final_csc_max,test_final_ctc_max,test_final_last,test_final_first,test_final_abs,test_final_mean,test_final_token_set,test_final_token_sort,test_final_fuzz_ratio,test_final_cwc_min)).tocsr().astype('float32')"
   ]
  },
  {
   "cell_type": "code",
   "execution_count": 35,
   "metadata": {
    "colab": {
     "base_uri": "https://localhost:8080/"
    },
    "id": "7DbDAQL_MRWJ",
    "outputId": "e806552e-2ba2-4b02-a1bd-903c3d98b60c"
   },
   "outputs": [
    {
     "name": "stdout",
     "output_type": "stream",
     "text": [
      "Final Train Shape (303217, 100022) (303217, 2)\n",
      "Final Test Shape (101073, 100022) (101073, 2)\n",
      "Test shape (2345796, 100022)\n"
     ]
    }
   ],
   "source": [
    "print(\"Final Train Shape\",train_s.shape,Y_train.shape)\n",
    "print(\"Final Test Shape\",test_s.shape,Y_test.shape)\n",
    "print(\"Test shape\",test_final_s.shape)"
   ]
  },
  {
   "cell_type": "code",
   "execution_count": 52,
   "metadata": {
    "id": "6ZYUWwU3QQTu"
   },
   "outputs": [],
   "source": [
    "import warnings\n",
    "warnings.filterwarnings(\"ignore\")"
   ]
  },
  {
   "cell_type": "markdown",
   "metadata": {
    "id": "_vDX24Nor38a"
   },
   "source": [
    "# Model:-1"
   ]
  },
  {
   "cell_type": "code",
   "execution_count": 36,
   "metadata": {
    "id": "M8N3tCb1MT9v"
   },
   "outputs": [],
   "source": [
    "from tensorflow.keras import regularizers\n",
    "def simple_mlp_model2(input_shape):   \n",
    "    model_in = Input(shape=(input_shape,), dtype='float32')\n",
    "    out = Dense(192,activation='relu',kernel_regularizer=regularizers.l2(0.001))(model_in)\n",
    "    out = BatchNormalization()(out)\n",
    "    out = Dropout(0.60)(out)\n",
    "    out = Dense(128,activation='relu',kernel_regularizer=regularizers.l2(0.001))(out)\n",
    "    out = BatchNormalization()(out)\n",
    "    out = Dropout(0.60)(out)\n",
    "    out = Dense(64, activation='relu',kernel_regularizer=regularizers.l2(0.001))(out)\n",
    "    out = BatchNormalization()(out)\n",
    "    out = Dropout(0.60)(out)\n",
    "    out = Dense(2,activation='Softmax')(out)\n",
    "    model = Model(model_in, out)\n",
    "    return model"
   ]
  },
  {
   "cell_type": "code",
   "execution_count": 37,
   "metadata": {
    "id": "GdLOcjWtMpbt"
   },
   "outputs": [],
   "source": [
    "model=simple_mlp_model2(train_s.shape[1])"
   ]
  },
  {
   "cell_type": "code",
   "execution_count": 38,
   "metadata": {
    "colab": {
     "base_uri": "https://localhost:8080/"
    },
    "id": "ETWdvsZ9MsDd",
    "outputId": "ab8830e7-c033-46cb-9c4d-4e130f62467f"
   },
   "outputs": [
    {
     "name": "stdout",
     "output_type": "stream",
     "text": [
      "Model: \"model\"\n",
      "_________________________________________________________________\n",
      "Layer (type)                 Output Shape              Param #   \n",
      "=================================================================\n",
      "input_1 (InputLayer)         [(None, 100022)]          0         \n",
      "_________________________________________________________________\n",
      "dense (Dense)                (None, 192)               19204416  \n",
      "_________________________________________________________________\n",
      "batch_normalization (BatchNo (None, 192)               768       \n",
      "_________________________________________________________________\n",
      "dropout (Dropout)            (None, 192)               0         \n",
      "_________________________________________________________________\n",
      "dense_1 (Dense)              (None, 128)               24704     \n",
      "_________________________________________________________________\n",
      "batch_normalization_1 (Batch (None, 128)               512       \n",
      "_________________________________________________________________\n",
      "dropout_1 (Dropout)          (None, 128)               0         \n",
      "_________________________________________________________________\n",
      "dense_2 (Dense)              (None, 64)                8256      \n",
      "_________________________________________________________________\n",
      "batch_normalization_2 (Batch (None, 64)                256       \n",
      "_________________________________________________________________\n",
      "dropout_2 (Dropout)          (None, 64)                0         \n",
      "_________________________________________________________________\n",
      "dense_3 (Dense)              (None, 2)                 130       \n",
      "=================================================================\n",
      "Total params: 19,239,042\n",
      "Trainable params: 19,238,274\n",
      "Non-trainable params: 768\n",
      "_________________________________________________________________\n"
     ]
    }
   ],
   "source": [
    "model.summary()"
   ]
  },
  {
   "cell_type": "code",
   "execution_count": 42,
   "metadata": {
    "id": "Ba3nGUhJMuDu"
   },
   "outputs": [],
   "source": [
    "import tensorflow as tf\n",
    "adam = tf.keras.optimizers.Adam()\n",
    "model.compile(optimizer=adam, loss='categorical_crossentropy',metrics=['accuracy'])"
   ]
  },
  {
   "cell_type": "code",
   "execution_count": 43,
   "metadata": {
    "id": "paPw1ep1Mt-S"
   },
   "outputs": [],
   "source": [
    "from tensorflow.keras.callbacks import *\n",
    "import os\n",
    "filepath=\"weights_1.best.hdf1\"\n",
    "checkpoint = ModelCheckpoint(filepath, monitor='val_los', verbose=1, mode='min')\n",
    "earlystop = EarlyStopping(monitor = 'val_loss',  mode=\"min\",min_delta = 0, patience = 5,verbose = 1)\n",
    "reduce_lr = ReduceLROnPlateau(monitor = 'val_loss', factor = 0.25, patience = 2, verbose = 1)\n",
    "%reload_ext tensorboard\n",
    "import datetime\n",
    "logdir = os.path.join(\"logs_1\", datetime.datetime.now().strftime(\"%Y%m%d-%H%M%S\"))\n",
    "#tensorboard = tf.keras.callbacks.TensorBoard(logdir, histogram_freq=1)\n",
    "tensorboard = TensorBoard(log_dir=logdir, histogram_freq=0, write_graph=True, write_grads=False, write_images=False)\n",
    "callbacks = [checkpoint,reduce_lr,tensorboard,earlystop]"
   ]
  },
  {
   "cell_type": "code",
   "execution_count": 44,
   "metadata": {
    "colab": {
     "base_uri": "https://localhost:8080/"
    },
    "id": "1HLrUWmXMt6i",
    "outputId": "cc902806-4895-405f-d0e8-ec5a661e8ba9"
   },
   "outputs": [
    {
     "name": "stdout",
     "output_type": "stream",
     "text": [
      "Epoch 1/50\n"
     ]
    },
    {
     "name": "stderr",
     "output_type": "stream",
     "text": [
      "/usr/local/lib/python3.7/dist-packages/tensorflow/python/framework/indexed_slices.py:449: UserWarning: Converting sparse IndexedSlices(IndexedSlices(indices=Tensor(\"gradient_tape/model/dense/embedding_lookup_sparse/Reshape_1:0\", shape=(None,), dtype=int32), values=Tensor(\"gradient_tape/model/dense/embedding_lookup_sparse/Reshape:0\", shape=(None, 192), dtype=float32), dense_shape=Tensor(\"gradient_tape/model/dense/embedding_lookup_sparse/Cast:0\", shape=(2,), dtype=int32))) to a dense Tensor of unknown shape. This may consume a large amount of memory.\n",
      "  \"shape. This may consume a large amount of memory.\" % value)\n"
     ]
    },
    {
     "name": "stdout",
     "output_type": "stream",
     "text": [
      "297/297 [==============================] - 5s 13ms/step - loss: 1.0634 - accuracy: 0.6928 - val_loss: 1.0546 - val_accuracy: 0.6289\n",
      "\n",
      "Epoch 00001: saving model to weights_1.best.hdf1\n"
     ]
    },
    {
     "name": "stderr",
     "output_type": "stream",
     "text": [
      "WARNING:absl:Found untraced functions such as softmax_layer_call_fn, softmax_layer_call_and_return_conditional_losses, softmax_layer_call_fn, softmax_layer_call_and_return_conditional_losses, softmax_layer_call_and_return_conditional_losses while saving (showing 5 of 5). These functions will not be directly callable after loading.\n"
     ]
    },
    {
     "name": "stdout",
     "output_type": "stream",
     "text": [
      "INFO:tensorflow:Assets written to: weights_1.best.hdf1/assets\n"
     ]
    },
    {
     "name": "stderr",
     "output_type": "stream",
     "text": [
      "INFO:tensorflow:Assets written to: weights_1.best.hdf1/assets\n"
     ]
    },
    {
     "name": "stdout",
     "output_type": "stream",
     "text": [
      "Epoch 2/50\n",
      "297/297 [==============================] - 4s 12ms/step - loss: 0.8482 - accuracy: 0.7710 - val_loss: 0.8493 - val_accuracy: 0.7142\n",
      "\n",
      "Epoch 00002: saving model to weights_1.best.hdf1\n"
     ]
    },
    {
     "name": "stderr",
     "output_type": "stream",
     "text": [
      "WARNING:absl:Found untraced functions such as softmax_layer_call_fn, softmax_layer_call_and_return_conditional_losses, softmax_layer_call_fn, softmax_layer_call_and_return_conditional_losses, softmax_layer_call_and_return_conditional_losses while saving (showing 5 of 5). These functions will not be directly callable after loading.\n"
     ]
    },
    {
     "name": "stdout",
     "output_type": "stream",
     "text": [
      "INFO:tensorflow:Assets written to: weights_1.best.hdf1/assets\n"
     ]
    },
    {
     "name": "stderr",
     "output_type": "stream",
     "text": [
      "INFO:tensorflow:Assets written to: weights_1.best.hdf1/assets\n"
     ]
    },
    {
     "name": "stdout",
     "output_type": "stream",
     "text": [
      "Epoch 3/50\n",
      "297/297 [==============================] - 4s 12ms/step - loss: 0.7794 - accuracy: 0.7762 - val_loss: 0.8196 - val_accuracy: 0.7188\n",
      "\n",
      "Epoch 00003: saving model to weights_1.best.hdf1\n"
     ]
    },
    {
     "name": "stderr",
     "output_type": "stream",
     "text": [
      "WARNING:absl:Found untraced functions such as softmax_layer_call_fn, softmax_layer_call_and_return_conditional_losses, softmax_layer_call_fn, softmax_layer_call_and_return_conditional_losses, softmax_layer_call_and_return_conditional_losses while saving (showing 5 of 5). These functions will not be directly callable after loading.\n"
     ]
    },
    {
     "name": "stdout",
     "output_type": "stream",
     "text": [
      "INFO:tensorflow:Assets written to: weights_1.best.hdf1/assets\n"
     ]
    },
    {
     "name": "stderr",
     "output_type": "stream",
     "text": [
      "INFO:tensorflow:Assets written to: weights_1.best.hdf1/assets\n"
     ]
    },
    {
     "name": "stdout",
     "output_type": "stream",
     "text": [
      "Epoch 4/50\n",
      "297/297 [==============================] - 4s 12ms/step - loss: 0.7540 - accuracy: 0.7758 - val_loss: 0.7458 - val_accuracy: 0.7649\n",
      "\n",
      "Epoch 00004: saving model to weights_1.best.hdf1\n"
     ]
    },
    {
     "name": "stderr",
     "output_type": "stream",
     "text": [
      "WARNING:absl:Found untraced functions such as softmax_layer_call_fn, softmax_layer_call_and_return_conditional_losses, softmax_layer_call_fn, softmax_layer_call_and_return_conditional_losses, softmax_layer_call_and_return_conditional_losses while saving (showing 5 of 5). These functions will not be directly callable after loading.\n"
     ]
    },
    {
     "name": "stdout",
     "output_type": "stream",
     "text": [
      "INFO:tensorflow:Assets written to: weights_1.best.hdf1/assets\n"
     ]
    },
    {
     "name": "stderr",
     "output_type": "stream",
     "text": [
      "INFO:tensorflow:Assets written to: weights_1.best.hdf1/assets\n"
     ]
    },
    {
     "name": "stdout",
     "output_type": "stream",
     "text": [
      "Epoch 5/50\n",
      "297/297 [==============================] - 4s 12ms/step - loss: 0.7369 - accuracy: 0.7767 - val_loss: 0.7565 - val_accuracy: 0.7327\n",
      "\n",
      "Epoch 00005: saving model to weights_1.best.hdf1\n"
     ]
    },
    {
     "name": "stderr",
     "output_type": "stream",
     "text": [
      "WARNING:absl:Found untraced functions such as softmax_layer_call_fn, softmax_layer_call_and_return_conditional_losses, softmax_layer_call_fn, softmax_layer_call_and_return_conditional_losses, softmax_layer_call_and_return_conditional_losses while saving (showing 5 of 5). These functions will not be directly callable after loading.\n"
     ]
    },
    {
     "name": "stdout",
     "output_type": "stream",
     "text": [
      "INFO:tensorflow:Assets written to: weights_1.best.hdf1/assets\n"
     ]
    },
    {
     "name": "stderr",
     "output_type": "stream",
     "text": [
      "INFO:tensorflow:Assets written to: weights_1.best.hdf1/assets\n"
     ]
    },
    {
     "name": "stdout",
     "output_type": "stream",
     "text": [
      "Epoch 6/50\n",
      "297/297 [==============================] - 4s 12ms/step - loss: 0.7296 - accuracy: 0.7764 - val_loss: 0.7263 - val_accuracy: 0.7651\n",
      "\n",
      "Epoch 00006: saving model to weights_1.best.hdf1\n"
     ]
    },
    {
     "name": "stderr",
     "output_type": "stream",
     "text": [
      "WARNING:absl:Found untraced functions such as softmax_layer_call_fn, softmax_layer_call_and_return_conditional_losses, softmax_layer_call_fn, softmax_layer_call_and_return_conditional_losses, softmax_layer_call_and_return_conditional_losses while saving (showing 5 of 5). These functions will not be directly callable after loading.\n"
     ]
    },
    {
     "name": "stdout",
     "output_type": "stream",
     "text": [
      "INFO:tensorflow:Assets written to: weights_1.best.hdf1/assets\n"
     ]
    },
    {
     "name": "stderr",
     "output_type": "stream",
     "text": [
      "INFO:tensorflow:Assets written to: weights_1.best.hdf1/assets\n"
     ]
    },
    {
     "name": "stdout",
     "output_type": "stream",
     "text": [
      "Epoch 7/50\n",
      "297/297 [==============================] - 4s 12ms/step - loss: 0.7265 - accuracy: 0.7779 - val_loss: 0.7392 - val_accuracy: 0.7519\n",
      "\n",
      "Epoch 00007: saving model to weights_1.best.hdf1\n"
     ]
    },
    {
     "name": "stderr",
     "output_type": "stream",
     "text": [
      "WARNING:absl:Found untraced functions such as softmax_layer_call_fn, softmax_layer_call_and_return_conditional_losses, softmax_layer_call_fn, softmax_layer_call_and_return_conditional_losses, softmax_layer_call_and_return_conditional_losses while saving (showing 5 of 5). These functions will not be directly callable after loading.\n"
     ]
    },
    {
     "name": "stdout",
     "output_type": "stream",
     "text": [
      "INFO:tensorflow:Assets written to: weights_1.best.hdf1/assets\n"
     ]
    },
    {
     "name": "stderr",
     "output_type": "stream",
     "text": [
      "INFO:tensorflow:Assets written to: weights_1.best.hdf1/assets\n"
     ]
    },
    {
     "name": "stdout",
     "output_type": "stream",
     "text": [
      "Epoch 8/50\n",
      "297/297 [==============================] - 4s 12ms/step - loss: 0.7302 - accuracy: 0.7781 - val_loss: 0.7526 - val_accuracy: 0.7515\n",
      "\n",
      "Epoch 00008: saving model to weights_1.best.hdf1\n"
     ]
    },
    {
     "name": "stderr",
     "output_type": "stream",
     "text": [
      "WARNING:absl:Found untraced functions such as softmax_layer_call_fn, softmax_layer_call_and_return_conditional_losses, softmax_layer_call_fn, softmax_layer_call_and_return_conditional_losses, softmax_layer_call_and_return_conditional_losses while saving (showing 5 of 5). These functions will not be directly callable after loading.\n"
     ]
    },
    {
     "name": "stdout",
     "output_type": "stream",
     "text": [
      "INFO:tensorflow:Assets written to: weights_1.best.hdf1/assets\n"
     ]
    },
    {
     "name": "stderr",
     "output_type": "stream",
     "text": [
      "INFO:tensorflow:Assets written to: weights_1.best.hdf1/assets\n"
     ]
    },
    {
     "name": "stdout",
     "output_type": "stream",
     "text": [
      "\n",
      "Epoch 00008: ReduceLROnPlateau reducing learning rate to 0.0002500000118743628.\n",
      "Epoch 9/50\n",
      "297/297 [==============================] - 4s 12ms/step - loss: 0.5957 - accuracy: 0.8084 - val_loss: 0.6467 - val_accuracy: 0.7604\n",
      "\n",
      "Epoch 00009: saving model to weights_1.best.hdf1\n"
     ]
    },
    {
     "name": "stderr",
     "output_type": "stream",
     "text": [
      "WARNING:absl:Found untraced functions such as softmax_layer_call_fn, softmax_layer_call_and_return_conditional_losses, softmax_layer_call_fn, softmax_layer_call_and_return_conditional_losses, softmax_layer_call_and_return_conditional_losses while saving (showing 5 of 5). These functions will not be directly callable after loading.\n"
     ]
    },
    {
     "name": "stdout",
     "output_type": "stream",
     "text": [
      "INFO:tensorflow:Assets written to: weights_1.best.hdf1/assets\n"
     ]
    },
    {
     "name": "stderr",
     "output_type": "stream",
     "text": [
      "INFO:tensorflow:Assets written to: weights_1.best.hdf1/assets\n"
     ]
    },
    {
     "name": "stdout",
     "output_type": "stream",
     "text": [
      "Epoch 10/50\n",
      "297/297 [==============================] - 4s 12ms/step - loss: 0.5254 - accuracy: 0.8196 - val_loss: 0.6247 - val_accuracy: 0.7758\n",
      "\n",
      "Epoch 00010: saving model to weights_1.best.hdf1\n"
     ]
    },
    {
     "name": "stderr",
     "output_type": "stream",
     "text": [
      "WARNING:absl:Found untraced functions such as softmax_layer_call_fn, softmax_layer_call_and_return_conditional_losses, softmax_layer_call_fn, softmax_layer_call_and_return_conditional_losses, softmax_layer_call_and_return_conditional_losses while saving (showing 5 of 5). These functions will not be directly callable after loading.\n"
     ]
    },
    {
     "name": "stdout",
     "output_type": "stream",
     "text": [
      "INFO:tensorflow:Assets written to: weights_1.best.hdf1/assets\n"
     ]
    },
    {
     "name": "stderr",
     "output_type": "stream",
     "text": [
      "INFO:tensorflow:Assets written to: weights_1.best.hdf1/assets\n"
     ]
    },
    {
     "name": "stdout",
     "output_type": "stream",
     "text": [
      "Epoch 11/50\n",
      "297/297 [==============================] - 4s 12ms/step - loss: 0.5116 - accuracy: 0.8265 - val_loss: 0.6676 - val_accuracy: 0.7750\n",
      "\n",
      "Epoch 00011: saving model to weights_1.best.hdf1\n"
     ]
    },
    {
     "name": "stderr",
     "output_type": "stream",
     "text": [
      "WARNING:absl:Found untraced functions such as softmax_layer_call_fn, softmax_layer_call_and_return_conditional_losses, softmax_layer_call_fn, softmax_layer_call_and_return_conditional_losses, softmax_layer_call_and_return_conditional_losses while saving (showing 5 of 5). These functions will not be directly callable after loading.\n"
     ]
    },
    {
     "name": "stdout",
     "output_type": "stream",
     "text": [
      "INFO:tensorflow:Assets written to: weights_1.best.hdf1/assets\n"
     ]
    },
    {
     "name": "stderr",
     "output_type": "stream",
     "text": [
      "INFO:tensorflow:Assets written to: weights_1.best.hdf1/assets\n"
     ]
    },
    {
     "name": "stdout",
     "output_type": "stream",
     "text": [
      "Epoch 12/50\n",
      "297/297 [==============================] - 4s 12ms/step - loss: 0.5077 - accuracy: 0.8302 - val_loss: 0.6172 - val_accuracy: 0.7730\n",
      "\n",
      "Epoch 00012: saving model to weights_1.best.hdf1\n"
     ]
    },
    {
     "name": "stderr",
     "output_type": "stream",
     "text": [
      "WARNING:absl:Found untraced functions such as softmax_layer_call_fn, softmax_layer_call_and_return_conditional_losses, softmax_layer_call_fn, softmax_layer_call_and_return_conditional_losses, softmax_layer_call_and_return_conditional_losses while saving (showing 5 of 5). These functions will not be directly callable after loading.\n"
     ]
    },
    {
     "name": "stdout",
     "output_type": "stream",
     "text": [
      "INFO:tensorflow:Assets written to: weights_1.best.hdf1/assets\n"
     ]
    },
    {
     "name": "stderr",
     "output_type": "stream",
     "text": [
      "INFO:tensorflow:Assets written to: weights_1.best.hdf1/assets\n"
     ]
    },
    {
     "name": "stdout",
     "output_type": "stream",
     "text": [
      "Epoch 13/50\n",
      "297/297 [==============================] - 4s 12ms/step - loss: 0.5002 - accuracy: 0.8351 - val_loss: 0.6274 - val_accuracy: 0.7699\n",
      "\n",
      "Epoch 00013: saving model to weights_1.best.hdf1\n"
     ]
    },
    {
     "name": "stderr",
     "output_type": "stream",
     "text": [
      "WARNING:absl:Found untraced functions such as softmax_layer_call_fn, softmax_layer_call_and_return_conditional_losses, softmax_layer_call_fn, softmax_layer_call_and_return_conditional_losses, softmax_layer_call_and_return_conditional_losses while saving (showing 5 of 5). These functions will not be directly callable after loading.\n"
     ]
    },
    {
     "name": "stdout",
     "output_type": "stream",
     "text": [
      "INFO:tensorflow:Assets written to: weights_1.best.hdf1/assets\n"
     ]
    },
    {
     "name": "stderr",
     "output_type": "stream",
     "text": [
      "INFO:tensorflow:Assets written to: weights_1.best.hdf1/assets\n"
     ]
    },
    {
     "name": "stdout",
     "output_type": "stream",
     "text": [
      "Epoch 14/50\n",
      "297/297 [==============================] - 4s 12ms/step - loss: 0.4954 - accuracy: 0.8384 - val_loss: 0.6450 - val_accuracy: 0.7592\n",
      "\n",
      "Epoch 00014: saving model to weights_1.best.hdf1\n"
     ]
    },
    {
     "name": "stderr",
     "output_type": "stream",
     "text": [
      "WARNING:absl:Found untraced functions such as softmax_layer_call_fn, softmax_layer_call_and_return_conditional_losses, softmax_layer_call_fn, softmax_layer_call_and_return_conditional_losses, softmax_layer_call_and_return_conditional_losses while saving (showing 5 of 5). These functions will not be directly callable after loading.\n"
     ]
    },
    {
     "name": "stdout",
     "output_type": "stream",
     "text": [
      "INFO:tensorflow:Assets written to: weights_1.best.hdf1/assets\n"
     ]
    },
    {
     "name": "stderr",
     "output_type": "stream",
     "text": [
      "INFO:tensorflow:Assets written to: weights_1.best.hdf1/assets\n"
     ]
    },
    {
     "name": "stdout",
     "output_type": "stream",
     "text": [
      "\n",
      "Epoch 00014: ReduceLROnPlateau reducing learning rate to 6.25000029685907e-05.\n",
      "Epoch 15/50\n",
      "297/297 [==============================] - 4s 12ms/step - loss: 0.4456 - accuracy: 0.8612 - val_loss: 0.6667 - val_accuracy: 0.7752\n",
      "\n",
      "Epoch 00015: saving model to weights_1.best.hdf1\n"
     ]
    },
    {
     "name": "stderr",
     "output_type": "stream",
     "text": [
      "WARNING:absl:Found untraced functions such as softmax_layer_call_fn, softmax_layer_call_and_return_conditional_losses, softmax_layer_call_fn, softmax_layer_call_and_return_conditional_losses, softmax_layer_call_and_return_conditional_losses while saving (showing 5 of 5). These functions will not be directly callable after loading.\n"
     ]
    },
    {
     "name": "stdout",
     "output_type": "stream",
     "text": [
      "INFO:tensorflow:Assets written to: weights_1.best.hdf1/assets\n"
     ]
    },
    {
     "name": "stderr",
     "output_type": "stream",
     "text": [
      "INFO:tensorflow:Assets written to: weights_1.best.hdf1/assets\n"
     ]
    },
    {
     "name": "stdout",
     "output_type": "stream",
     "text": [
      "Epoch 16/50\n",
      "297/297 [==============================] - 4s 12ms/step - loss: 0.4118 - accuracy: 0.8697 - val_loss: 0.6490 - val_accuracy: 0.7735\n",
      "\n",
      "Epoch 00016: saving model to weights_1.best.hdf1\n"
     ]
    },
    {
     "name": "stderr",
     "output_type": "stream",
     "text": [
      "WARNING:absl:Found untraced functions such as softmax_layer_call_fn, softmax_layer_call_and_return_conditional_losses, softmax_layer_call_fn, softmax_layer_call_and_return_conditional_losses, softmax_layer_call_and_return_conditional_losses while saving (showing 5 of 5). These functions will not be directly callable after loading.\n"
     ]
    },
    {
     "name": "stdout",
     "output_type": "stream",
     "text": [
      "INFO:tensorflow:Assets written to: weights_1.best.hdf1/assets\n"
     ]
    },
    {
     "name": "stderr",
     "output_type": "stream",
     "text": [
      "INFO:tensorflow:Assets written to: weights_1.best.hdf1/assets\n"
     ]
    },
    {
     "name": "stdout",
     "output_type": "stream",
     "text": [
      "\n",
      "Epoch 00016: ReduceLROnPlateau reducing learning rate to 1.5625000742147677e-05.\n",
      "Epoch 17/50\n",
      "297/297 [==============================] - 4s 12ms/step - loss: 0.3829 - accuracy: 0.8804 - val_loss: 0.6983 - val_accuracy: 0.7760\n",
      "\n",
      "Epoch 00017: saving model to weights_1.best.hdf1\n"
     ]
    },
    {
     "name": "stderr",
     "output_type": "stream",
     "text": [
      "WARNING:absl:Found untraced functions such as softmax_layer_call_fn, softmax_layer_call_and_return_conditional_losses, softmax_layer_call_fn, softmax_layer_call_and_return_conditional_losses, softmax_layer_call_and_return_conditional_losses while saving (showing 5 of 5). These functions will not be directly callable after loading.\n"
     ]
    },
    {
     "name": "stdout",
     "output_type": "stream",
     "text": [
      "INFO:tensorflow:Assets written to: weights_1.best.hdf1/assets\n"
     ]
    },
    {
     "name": "stderr",
     "output_type": "stream",
     "text": [
      "INFO:tensorflow:Assets written to: weights_1.best.hdf1/assets\n"
     ]
    },
    {
     "name": "stdout",
     "output_type": "stream",
     "text": [
      "Epoch 00017: early stopping\n"
     ]
    }
   ],
   "source": [
    "hitory1=model.fit(x=train_s,y=Y_train,epochs=50,batch_size=1024,validation_data=(test_s, Y_test),callbacks=callbacks)"
   ]
  },
  {
   "cell_type": "code",
   "execution_count": null,
   "metadata": {
    "id": "MNgO3uTVWqna"
   },
   "outputs": [],
   "source": []
  },
  {
   "cell_type": "code",
   "execution_count": 45,
   "metadata": {
    "colab": {
     "base_uri": "https://localhost:8080/",
     "height": 228
    },
    "id": "0FhD-I6kM_AM",
    "outputId": "19587a2d-2950-4fbe-dbfc-d1893a0ad6d3"
   },
   "outputs": [
    {
     "data": {
      "image/png": "[encoded data removed]",
      "text/plain": [
       "<Figure size 2160x360 with 2 Axes>"
      ]
     },
     "metadata": {
      "needs_background": "light"
     },
     "output_type": "display_data"
    }
   ],
   "source": [
    "import matplotlib.pyplot as plt\n",
    "plt.figure(figsize=(30, 5))\n",
    "plt.subplot(121)\n",
    "plt.plot(hitory1.history['loss'])\n",
    "plt.plot(hitory1.history['val_loss'])\n",
    "plt.title('Model Loss')\n",
    "plt.ylabel('loss')\n",
    "plt.xlabel('Epoch')\n",
    "plt.legend(['Train', 'Test'], loc='upper left')\n",
    "\n",
    "# Plot training & validation f1_score\n",
    "plt.subplot(122)\n",
    "plt.plot(hitory1.history['accuracy'])\n",
    "plt.plot(hitory1.history['val_accuracy'])\n",
    "plt.title('Model Accuracy')\n",
    "plt.ylabel('accuracy')\n",
    "plt.xlabel('Epoch')\n",
    "plt.legend(['Train', 'Test'], loc='upper left')\n",
    "plt.show()"
   ]
  },
  {
   "cell_type": "markdown",
   "metadata": {
    "id": "H0k2_4CorykS"
   },
   "source": [
    "# Model:-2"
   ]
  },
  {
   "cell_type": "code",
   "execution_count": 46,
   "metadata": {
    "id": "tm5kX0KOPujd"
   },
   "outputs": [],
   "source": [
    "from tensorflow.keras import regularizers\n",
    "def simple_mlp_model(input_shape):   \n",
    "    model_in = Input(shape=(input_shape,), dtype='float32')\n",
    "    out = Dense(2048,activation='relu',kernel_regularizer=regularizers.l2(0.001))(model_in)\n",
    "    out = BatchNormalization()(out)\n",
    "    out = Dropout(0.60)(out)\n",
    "    out = Dense(1024, activation='relu',kernel_regularizer=regularizers.l2(0.001))(out)\n",
    "    out = BatchNormalization()(out)\n",
    "    out = Dropout(0.50)(out)\n",
    "    out = Dense(512, activation='relu',kernel_regularizer=regularizers.l2(0.001))(out)\n",
    "    out = BatchNormalization()(out)\n",
    "    out = Dropout(0.40)(out)\n",
    "    out = Dense(256,activation='relu',kernel_regularizer=regularizers.l2(0.001))(out)\n",
    "    out = BatchNormalization()(out)\n",
    "    out = Dropout(0.30)(out)\n",
    "    out = Dense(128, activation='relu',kernel_regularizer=regularizers.l2(0.001))(out)\n",
    "    out = BatchNormalization()(out)\n",
    "    out = Dropout(0.60)(out)\n",
    "    out = Dense(64, activation='relu',kernel_regularizer=regularizers.l2(0.001))(out)\n",
    "    out = BatchNormalization()(out)\n",
    "    out = Dropout(0.30)(out)\n",
    "    out = Dense(16, activation='relu',kernel_regularizer=regularizers.l2(0.001))(out)\n",
    "    out = BatchNormalization()(out)\n",
    "    out = Dropout(0.15)(out)\n",
    "    out = Dense(2,activation='softmax')(out)\n",
    "    model = Model(model_in, out)\n",
    "    return model"
   ]
  },
  {
   "cell_type": "code",
   "execution_count": 47,
   "metadata": {
    "id": "Knu5TSgqP_Bm"
   },
   "outputs": [],
   "source": [
    "model1=simple_mlp_model(train_s.shape[1])"
   ]
  },
  {
   "cell_type": "code",
   "execution_count": 48,
   "metadata": {
    "colab": {
     "base_uri": "https://localhost:8080/"
    },
    "id": "eYK0UHxWQC_1",
    "outputId": "8f251356-4dd8-4774-e730-6690662c5607"
   },
   "outputs": [
    {
     "name": "stdout",
     "output_type": "stream",
     "text": [
      "Model: \"model_1\"\n",
      "_________________________________________________________________\n",
      "Layer (type)                 Output Shape              Param #   \n",
      "=================================================================\n",
      "input_2 (InputLayer)         [(None, 100022)]          0         \n",
      "_________________________________________________________________\n",
      "dense_4 (Dense)              (None, 2048)              204847104 \n",
      "_________________________________________________________________\n",
      "batch_normalization_3 (Batch (None, 2048)              8192      \n",
      "_________________________________________________________________\n",
      "dropout_3 (Dropout)          (None, 2048)              0         \n",
      "_________________________________________________________________\n",
      "dense_5 (Dense)              (None, 1024)              2098176   \n",
      "_________________________________________________________________\n",
      "batch_normalization_4 (Batch (None, 1024)              4096      \n",
      "_________________________________________________________________\n",
      "dropout_4 (Dropout)          (None, 1024)              0         \n",
      "_________________________________________________________________\n",
      "dense_6 (Dense)              (None, 512)               524800    \n",
      "_________________________________________________________________\n",
      "batch_normalization_5 (Batch (None, 512)               2048      \n",
      "_________________________________________________________________\n",
      "dropout_5 (Dropout)          (None, 512)               0         \n",
      "_________________________________________________________________\n",
      "dense_7 (Dense)              (None, 256)               131328    \n",
      "_________________________________________________________________\n",
      "batch_normalization_6 (Batch (None, 256)               1024      \n",
      "_________________________________________________________________\n",
      "dropout_6 (Dropout)          (None, 256)               0         \n",
      "_________________________________________________________________\n",
      "dense_8 (Dense)              (None, 128)               32896     \n",
      "_________________________________________________________________\n",
      "batch_normalization_7 (Batch (None, 128)               512       \n",
      "_________________________________________________________________\n",
      "dropout_7 (Dropout)          (None, 128)               0         \n",
      "_________________________________________________________________\n",
      "dense_9 (Dense)              (None, 64)                8256      \n",
      "_________________________________________________________________\n",
      "batch_normalization_8 (Batch (None, 64)                256       \n",
      "_________________________________________________________________\n",
      "dropout_8 (Dropout)          (None, 64)                0         \n",
      "_________________________________________________________________\n",
      "dense_10 (Dense)             (None, 16)                1040      \n",
      "_________________________________________________________________\n",
      "batch_normalization_9 (Batch (None, 16)                64        \n",
      "_________________________________________________________________\n",
      "dropout_9 (Dropout)          (None, 16)                0         \n",
      "_________________________________________________________________\n",
      "dense_11 (Dense)             (None, 2)                 34        \n",
      "=================================================================\n",
      "Total params: 207,659,826\n",
      "Trainable params: 207,651,730\n",
      "Non-trainable params: 8,096\n",
      "_________________________________________________________________\n"
     ]
    }
   ],
   "source": [
    "model1.summary()"
   ]
  },
  {
   "cell_type": "code",
   "execution_count": 49,
   "metadata": {
    "id": "G7Mo_b1qQGnD"
   },
   "outputs": [],
   "source": [
    "import tensorflow as tf\n",
    "adam = tf.keras.optimizers.Adam()\n",
    "model1.compile(optimizer=adam, loss='categorical_crossentropy',metrics=['accuracy'])"
   ]
  },
  {
   "cell_type": "code",
   "execution_count": 54,
   "metadata": {
    "id": "dNgFp73YQGiA"
   },
   "outputs": [],
   "source": [
    "from tensorflow.keras.callbacks import *\n",
    "import os\n",
    "filepath=\"weights_1.best.hdf1\"\n",
    "checkpoint = ModelCheckpoint(filepath, monitor='val_loss', verbose=1, mode='min')\n",
    "earlystop = EarlyStopping(monitor = 'val_loss',  mode=\"min\",min_delta = 0, patience = 8,verbose = 1)\n",
    "reduce_lr = ReduceLROnPlateau(monitor = 'val_loss', factor = 0.25, patience = 2, verbose = 1)\n",
    "%reload_ext tensorboard\n",
    "import datetime\n",
    "logdir = os.path.join(\"logs_2\", datetime.datetime.now().strftime(\"%Y%m%d-%H%M%S\"))\n",
    "#tensorboard = tf.keras.callbacks.TensorBoard(logdir, histogram_freq=1)\n",
    "tensorboard = TensorBoard(log_dir=logdir, histogram_freq=0, write_graph=True, write_grads=False, write_images=False)\n",
    "callbacks = [checkpoint,reduce_lr,tensorboard,earlystop]"
   ]
  },
  {
   "cell_type": "code",
   "execution_count": 55,
   "metadata": {
    "colab": {
     "base_uri": "https://localhost:8080/"
    },
    "id": "HeaKhDCIQGdK",
    "outputId": "a3e83c4f-ebba-4a3d-8d47-92c0850eae19"
   },
   "outputs": [
    {
     "name": "stdout",
     "output_type": "stream",
     "text": [
      "Epoch 1/50\n",
      "297/297 [==============================] - 19s 64ms/step - loss: 1.0360 - accuracy: 0.7646 - val_loss: 0.9660 - val_accuracy: 0.7526\n",
      "\n",
      "Epoch 00001: saving model to weights_1.best.hdf1\n",
      "INFO:tensorflow:Assets written to: weights_1.best.hdf1/assets\n"
     ]
    },
    {
     "name": "stderr",
     "output_type": "stream",
     "text": [
      "INFO:tensorflow:Assets written to: weights_1.best.hdf1/assets\n"
     ]
    },
    {
     "name": "stdout",
     "output_type": "stream",
     "text": [
      "Epoch 2/50\n",
      "297/297 [==============================] - 19s 63ms/step - loss: 1.0138 - accuracy: 0.7679 - val_loss: 1.0322 - val_accuracy: 0.7497\n",
      "\n",
      "Epoch 00002: saving model to weights_1.best.hdf1\n",
      "INFO:tensorflow:Assets written to: weights_1.best.hdf1/assets\n"
     ]
    },
    {
     "name": "stderr",
     "output_type": "stream",
     "text": [
      "INFO:tensorflow:Assets written to: weights_1.best.hdf1/assets\n"
     ]
    },
    {
     "name": "stdout",
     "output_type": "stream",
     "text": [
      "Epoch 3/50\n",
      "297/297 [==============================] - 19s 63ms/step - loss: 1.0097 - accuracy: 0.7710 - val_loss: 1.0141 - val_accuracy: 0.7288\n",
      "\n",
      "Epoch 00003: saving model to weights_1.best.hdf1\n",
      "INFO:tensorflow:Assets written to: weights_1.best.hdf1/assets\n"
     ]
    },
    {
     "name": "stderr",
     "output_type": "stream",
     "text": [
      "INFO:tensorflow:Assets written to: weights_1.best.hdf1/assets\n"
     ]
    },
    {
     "name": "stdout",
     "output_type": "stream",
     "text": [
      "\n",
      "Epoch 00003: ReduceLROnPlateau reducing learning rate to 0.0002500000118743628.\n",
      "Epoch 4/50\n",
      "297/297 [==============================] - 19s 63ms/step - loss: 0.7051 - accuracy: 0.8003 - val_loss: 0.6840 - val_accuracy: 0.7646\n",
      "\n",
      "Epoch 00004: saving model to weights_1.best.hdf1\n",
      "INFO:tensorflow:Assets written to: weights_1.best.hdf1/assets\n"
     ]
    },
    {
     "name": "stderr",
     "output_type": "stream",
     "text": [
      "INFO:tensorflow:Assets written to: weights_1.best.hdf1/assets\n"
     ]
    },
    {
     "name": "stdout",
     "output_type": "stream",
     "text": [
      "Epoch 5/50\n",
      "297/297 [==============================] - 19s 63ms/step - loss: 0.6589 - accuracy: 0.8158 - val_loss: 0.7184 - val_accuracy: 0.7756\n",
      "\n",
      "Epoch 00005: saving model to weights_1.best.hdf1\n",
      "INFO:tensorflow:Assets written to: weights_1.best.hdf1/assets\n"
     ]
    },
    {
     "name": "stderr",
     "output_type": "stream",
     "text": [
      "INFO:tensorflow:Assets written to: weights_1.best.hdf1/assets\n"
     ]
    },
    {
     "name": "stdout",
     "output_type": "stream",
     "text": [
      "Epoch 6/50\n",
      "297/297 [==============================] - 19s 63ms/step - loss: 0.6727 - accuracy: 0.8236 - val_loss: 0.7807 - val_accuracy: 0.7583\n",
      "\n",
      "Epoch 00006: saving model to weights_1.best.hdf1\n",
      "INFO:tensorflow:Assets written to: weights_1.best.hdf1/assets\n"
     ]
    },
    {
     "name": "stderr",
     "output_type": "stream",
     "text": [
      "INFO:tensorflow:Assets written to: weights_1.best.hdf1/assets\n"
     ]
    },
    {
     "name": "stdout",
     "output_type": "stream",
     "text": [
      "\n",
      "Epoch 00006: ReduceLROnPlateau reducing learning rate to 6.25000029685907e-05.\n",
      "Epoch 7/50\n",
      "297/297 [==============================] - 19s 63ms/step - loss: 0.5533 - accuracy: 0.8533 - val_loss: 0.6997 - val_accuracy: 0.7827\n",
      "\n",
      "Epoch 00007: saving model to weights_1.best.hdf1\n",
      "INFO:tensorflow:Assets written to: weights_1.best.hdf1/assets\n"
     ]
    },
    {
     "name": "stderr",
     "output_type": "stream",
     "text": [
      "INFO:tensorflow:Assets written to: weights_1.best.hdf1/assets\n"
     ]
    },
    {
     "name": "stdout",
     "output_type": "stream",
     "text": [
      "Epoch 8/50\n",
      "297/297 [==============================] - 19s 63ms/step - loss: 0.4755 - accuracy: 0.8668 - val_loss: 0.7435 - val_accuracy: 0.7440\n",
      "\n",
      "Epoch 00008: saving model to weights_1.best.hdf1\n",
      "INFO:tensorflow:Assets written to: weights_1.best.hdf1/assets\n"
     ]
    },
    {
     "name": "stderr",
     "output_type": "stream",
     "text": [
      "INFO:tensorflow:Assets written to: weights_1.best.hdf1/assets\n"
     ]
    },
    {
     "name": "stdout",
     "output_type": "stream",
     "text": [
      "\n",
      "Epoch 00008: ReduceLROnPlateau reducing learning rate to 1.5625000742147677e-05.\n",
      "Epoch 9/50\n",
      "297/297 [==============================] - 19s 63ms/step - loss: 0.4154 - accuracy: 0.8902 - val_loss: 0.7318 - val_accuracy: 0.7763\n",
      "\n",
      "Epoch 00009: saving model to weights_1.best.hdf1\n",
      "INFO:tensorflow:Assets written to: weights_1.best.hdf1/assets\n"
     ]
    },
    {
     "name": "stderr",
     "output_type": "stream",
     "text": [
      "INFO:tensorflow:Assets written to: weights_1.best.hdf1/assets\n"
     ]
    },
    {
     "name": "stdout",
     "output_type": "stream",
     "text": [
      "Epoch 10/50\n",
      "297/297 [==============================] - 19s 63ms/step - loss: 0.3875 - accuracy: 0.8975 - val_loss: 0.7436 - val_accuracy: 0.7785\n",
      "\n",
      "Epoch 00010: saving model to weights_1.best.hdf1\n",
      "INFO:tensorflow:Assets written to: weights_1.best.hdf1/assets\n"
     ]
    },
    {
     "name": "stderr",
     "output_type": "stream",
     "text": [
      "INFO:tensorflow:Assets written to: weights_1.best.hdf1/assets\n"
     ]
    },
    {
     "name": "stdout",
     "output_type": "stream",
     "text": [
      "\n",
      "Epoch 00010: ReduceLROnPlateau reducing learning rate to 3.906250185536919e-06.\n",
      "Epoch 11/50\n",
      "297/297 [==============================] - 19s 63ms/step - loss: 0.3608 - accuracy: 0.9074 - val_loss: 0.7634 - val_accuracy: 0.7754\n",
      "\n",
      "Epoch 00011: saving model to weights_1.best.hdf1\n",
      "INFO:tensorflow:Assets written to: weights_1.best.hdf1/assets\n"
     ]
    },
    {
     "name": "stderr",
     "output_type": "stream",
     "text": [
      "INFO:tensorflow:Assets written to: weights_1.best.hdf1/assets\n"
     ]
    },
    {
     "name": "stdout",
     "output_type": "stream",
     "text": [
      "Epoch 12/50\n",
      "297/297 [==============================] - 19s 63ms/step - loss: 0.3535 - accuracy: 0.9092 - val_loss: 0.7731 - val_accuracy: 0.7728\n",
      "\n",
      "Epoch 00012: saving model to weights_1.best.hdf1\n",
      "INFO:tensorflow:Assets written to: weights_1.best.hdf1/assets\n"
     ]
    },
    {
     "name": "stderr",
     "output_type": "stream",
     "text": [
      "INFO:tensorflow:Assets written to: weights_1.best.hdf1/assets\n"
     ]
    },
    {
     "name": "stdout",
     "output_type": "stream",
     "text": [
      "\n",
      "Epoch 00012: ReduceLROnPlateau reducing learning rate to 9.765625463842298e-07.\n",
      "Epoch 00012: early stopping\n"
     ]
    }
   ],
   "source": [
    "hitory1=model1.fit(x=train_s,y=Y_train,epochs=50,batch_size=1024,validation_data=(test_s, Y_test),callbacks=callbacks)"
   ]
  },
  {
   "cell_type": "code",
   "execution_count": 56,
   "metadata": {
    "colab": {
     "base_uri": "https://localhost:8080/",
     "height": 228
    },
    "id": "bMyTREmHQGTs",
    "outputId": "887a1e70-f45b-4cd2-9612-09708e35532a"
   },
   "outputs": [
    {
     "data": {
      "image/png": "[encoded data removed]",
      "text/plain": [
       "<Figure size 2160x360 with 2 Axes>"
      ]
     },
     "metadata": {
      "needs_background": "light"
     },
     "output_type": "display_data"
    }
   ],
   "source": [
    "import matplotlib.pyplot as plt\n",
    "plt.figure(figsize=(30, 5))\n",
    "plt.subplot(121)\n",
    "plt.plot(hitory1.history['loss'])\n",
    "plt.plot(hitory1.history['val_loss'])\n",
    "plt.title('Model Loss')\n",
    "plt.ylabel('loss')\n",
    "plt.xlabel('Epoch')\n",
    "plt.legend(['Train', 'Test'], loc='upper left')\n",
    "\n",
    "# Plot training & validation f1_score\n",
    "plt.subplot(122)\n",
    "plt.plot(hitory1.history['accuracy'])\n",
    "plt.plot(hitory1.history['val_accuracy'])\n",
    "plt.title('Model Accuracy')\n",
    "plt.ylabel('accuracy')\n",
    "plt.xlabel('Epoch')\n",
    "plt.legend(['Train', 'Test'], loc='upper left')\n",
    "plt.show()"
   ]
  },
  {
   "cell_type": "code",
   "execution_count": 57,
   "metadata": {
    "id": "Ur7pTcyvWvs9"
   },
   "outputs": [],
   "source": [
    "Y_pre=model.predict(test_final_s)"
   ]
  },
  {
   "cell_type": "code",
   "execution_count": 58,
   "metadata": {
    "colab": {
     "base_uri": "https://localhost:8080/"
    },
    "id": "Tgnc3vzQeWf4",
    "outputId": "5103c08e-9dac-4070-a468-bd63c8aeab30"
   },
   "outputs": [
    {
     "name": "stdout",
     "output_type": "stream",
     "text": [
      "[[9.9907136e-01 9.2856045e-04]\n",
      " [9.9138278e-01 8.6172745e-03]\n",
      " [7.6098460e-01 2.3901537e-01]\n",
      " ...\n",
      " [8.3627522e-01 1.6372484e-01]\n",
      " [8.9735901e-01 1.0264104e-01]\n",
      " [5.4776573e-01 4.5223424e-01]]\n"
     ]
    }
   ],
   "source": [
    "print(Y_pre)"
   ]
  },
  {
   "cell_type": "code",
   "execution_count": 59,
   "metadata": {
    "id": "oyZZIh8CpF8o"
   },
   "outputs": [],
   "source": [
    "y_pre=model1.predict(test_final_s)"
   ]
  },
  {
   "cell_type": "code",
   "execution_count": 60,
   "metadata": {
    "colab": {
     "base_uri": "https://localhost:8080/"
    },
    "id": "u-8FjcnBcEg3",
    "outputId": "d662c822-9814-4128-def3-11eaa664162b"
   },
   "outputs": [
    {
     "name": "stdout",
     "output_type": "stream",
     "text": [
      "[[0.9825585  0.01744145]\n",
      " [0.94781584 0.05218422]\n",
      " [0.9901848  0.00981516]\n",
      " ...\n",
      " [0.9474753  0.05252471]\n",
      " [0.9941994  0.00580061]\n",
      " [0.5008927  0.4991073 ]]\n"
     ]
    }
   ],
   "source": [
    "print(y_pre)"
   ]
  },
  {
   "cell_type": "code",
   "execution_count": 61,
   "metadata": {
    "colab": {
     "base_uri": "https://localhost:8080/",
     "height": 206
    },
    "id": "W0SnMYIIYI44",
    "outputId": "1e2ac0cb-0878-4de4-cd58-5a85dd776a92"
   },
   "outputs": [
    {
     "data": {
      "text/html": [
       "<div>\n",
       "<style scoped>\n",
       "    .dataframe tbody tr th:only-of-type {\n",
       "        vertical-align: middle;\n",
       "    }\n",
       "\n",
       "    .dataframe tbody tr th {\n",
       "        vertical-align: top;\n",
       "    }\n",
       "\n",
       "    .dataframe thead th {\n",
       "        text-align: right;\n",
       "    }\n",
       "</style>\n",
       "<table border=\"1\" class=\"dataframe\">\n",
       "  <thead>\n",
       "    <tr style=\"text-align: right;\">\n",
       "      <th></th>\n",
       "      <th>test_id</th>\n",
       "      <th>is_duplicate</th>\n",
       "    </tr>\n",
       "  </thead>\n",
       "  <tbody>\n",
       "    <tr>\n",
       "      <th>0</th>\n",
       "      <td>0</td>\n",
       "      <td>1</td>\n",
       "    </tr>\n",
       "    <tr>\n",
       "      <th>1</th>\n",
       "      <td>1</td>\n",
       "      <td>1</td>\n",
       "    </tr>\n",
       "    <tr>\n",
       "      <th>2</th>\n",
       "      <td>2</td>\n",
       "      <td>1</td>\n",
       "    </tr>\n",
       "    <tr>\n",
       "      <th>3</th>\n",
       "      <td>3</td>\n",
       "      <td>1</td>\n",
       "    </tr>\n",
       "    <tr>\n",
       "      <th>4</th>\n",
       "      <td>4</td>\n",
       "      <td>1</td>\n",
       "    </tr>\n",
       "  </tbody>\n",
       "</table>\n",
       "</div>"
      ],
      "text/plain": [
       "   test_id  is_duplicate\n",
       "0        0             1\n",
       "1        1             1\n",
       "2        2             1\n",
       "3        3             1\n",
       "4        4             1"
      ]
     },
     "execution_count": 61,
     "metadata": {},
     "output_type": "execute_result"
    }
   ],
   "source": [
    "submission=pd.read_csv('/content/gdrive/MyDrive/Case study(Quora)/quora-question-pairs/sample_submission.csv')\n",
    "submission.head()"
   ]
  },
  {
   "cell_type": "code",
   "execution_count": 62,
   "metadata": {
    "id": "G6cEdBlYYbPO"
   },
   "outputs": [],
   "source": [
    "submission['is_duplicate']=Y_pre[:,1]"
   ]
  },
  {
   "cell_type": "code",
   "execution_count": 63,
   "metadata": {
    "colab": {
     "base_uri": "https://localhost:8080/",
     "height": 206
    },
    "id": "vSPtUccVYiX3",
    "outputId": "55113b92-6477-4a24-d658-00eebc55e58a"
   },
   "outputs": [
    {
     "data": {
      "text/html": [
       "<div>\n",
       "<style scoped>\n",
       "    .dataframe tbody tr th:only-of-type {\n",
       "        vertical-align: middle;\n",
       "    }\n",
       "\n",
       "    .dataframe tbody tr th {\n",
       "        vertical-align: top;\n",
       "    }\n",
       "\n",
       "    .dataframe thead th {\n",
       "        text-align: right;\n",
       "    }\n",
       "</style>\n",
       "<table border=\"1\" class=\"dataframe\">\n",
       "  <thead>\n",
       "    <tr style=\"text-align: right;\">\n",
       "      <th></th>\n",
       "      <th>test_id</th>\n",
       "      <th>is_duplicate</th>\n",
       "    </tr>\n",
       "  </thead>\n",
       "  <tbody>\n",
       "    <tr>\n",
       "      <th>0</th>\n",
       "      <td>0</td>\n",
       "      <td>0.000929</td>\n",
       "    </tr>\n",
       "    <tr>\n",
       "      <th>1</th>\n",
       "      <td>1</td>\n",
       "      <td>0.008617</td>\n",
       "    </tr>\n",
       "    <tr>\n",
       "      <th>2</th>\n",
       "      <td>2</td>\n",
       "      <td>0.239015</td>\n",
       "    </tr>\n",
       "    <tr>\n",
       "      <th>3</th>\n",
       "      <td>3</td>\n",
       "      <td>0.000033</td>\n",
       "    </tr>\n",
       "    <tr>\n",
       "      <th>4</th>\n",
       "      <td>4</td>\n",
       "      <td>0.897166</td>\n",
       "    </tr>\n",
       "  </tbody>\n",
       "</table>\n",
       "</div>"
      ],
      "text/plain": [
       "   test_id  is_duplicate\n",
       "0        0      0.000929\n",
       "1        1      0.008617\n",
       "2        2      0.239015\n",
       "3        3      0.000033\n",
       "4        4      0.897166"
      ]
     },
     "execution_count": 63,
     "metadata": {},
     "output_type": "execute_result"
    }
   ],
   "source": [
    "submission.head()"
   ]
  },
  {
   "cell_type": "code",
   "execution_count": 64,
   "metadata": {
    "id": "GZqnMLrrYlqv"
   },
   "outputs": [],
   "source": [
    "submission.to_csv('submission.csv',index=False)"
   ]
  }
 ],
 "metadata": {
  "accelerator": "GPU",
  "colab": {
   "machine_shape": "hm",
   "name": "Untitled13.ipynb",
   "provenance": []
  },
  "kernelspec": {
   "display_name": "Python 3",
   "language": "python",
   "name": "python3"
  },
  "language_info": {
   "codemirror_mode": {
    "name": "ipython",
    "version": 3
   },
   "file_extension": ".py",
   "mimetype": "text/x-python",
   "name": "python",
   "nbconvert_exporter": "python",
   "pygments_lexer": "ipython3",
   "version": "3.8.10"
  }
 },
 "nbformat": 4,
 "nbformat_minor": 1
}
